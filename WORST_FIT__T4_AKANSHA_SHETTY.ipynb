{
 "cells": [
  {
   "cell_type": "code",
   "execution_count": null,
   "id": "288e8048",
   "metadata": {},
   "outputs": [],
   "source": [
    "#NAME: AKANSHA SHETTY  USN; 22BTRADD002  COURSE: AI/DE   SECTION: A"
   ]
  },
  {
   "cell_type": "code",
   "execution_count": 2,
   "id": "d9bd0660",
   "metadata": {},
   "outputs": [
    {
     "name": "stdout",
     "output_type": "stream",
     "text": [
      "Process No. Process Size Block no.\n",
      "1 \t\t  212\t 5\n",
      "2 \t\t  417\t 2\n",
      "3 \t\t  112\t 5\n",
      "4 \t\t  426\t Not Allocated\n"
     ]
    }
   ],
   "source": [
    "#Write a Program Code for Worst Fit Algorithm. \n",
    "\n",
    "# Python3 implementation of worst - Fit algorithm\n",
    "\n",
    "# Function to allocate memory to blocks as\n",
    "# per worst fit algorithm\n",
    "def worstFit(blockSize, m, processSize, n):\n",
    "\t\n",
    "\t# Stores block id of the block\n",
    "\t# allocated to a process\n",
    "\t\n",
    "\t# Initially no block is assigned\n",
    "\t# to any process\n",
    "\tallocation = [-1] * n\n",
    "\t\n",
    "\t# pick each process and find suitable blocks\n",
    "\t# according to its size ad assign to it\n",
    "\tfor i in range(n):\n",
    "\t\t\n",
    "\t\t# Find the best fit block for\n",
    "\t\t# current process\n",
    "\t\twstIdx = -1\n",
    "\t\tfor j in range(m):\n",
    "\t\t\tif blockSize[j] >= processSize[i]:\n",
    "\t\t\t\tif wstIdx == -1:\n",
    "\t\t\t\t\twstIdx = j\n",
    "\t\t\t\telif blockSize[wstIdx] < blockSize[j]:\n",
    "\t\t\t\t\twstIdx = j\n",
    "\n",
    "\t\t# If we could find a block for\n",
    "\t\t# current process\n",
    "\t\tif wstIdx != -1:\n",
    "\t\t\t\n",
    "\t\t\t# allocate block j to p[i] process\n",
    "\t\t\tallocation[i] = wstIdx\n",
    "\n",
    "\t\t\t# Reduce available memory in this block.\n",
    "\t\t\tblockSize[wstIdx] -= processSize[i]\n",
    "\n",
    "\tprint(\"Process No. Process Size Block no.\")\n",
    "\tfor i in range(n):\n",
    "\t\tprint(i + 1, \"\t\t \",\n",
    "\t\t\tprocessSize[i], end = \"\t \")\n",
    "\t\tif allocation[i] != -1:\n",
    "\t\t\tprint(allocation[i] + 1)\n",
    "\t\telse:\n",
    "\t\t\tprint(\"Not Allocated\")\n",
    "\n",
    "# Driver code\n",
    "if __name__ == '__main__':\n",
    "\tblockSize = [100, 500, 200, 300, 600]\n",
    "\tprocessSize = [212, 417, 112, 426]\n",
    "\tm = len(blockSize)\n",
    "\tn = len(processSize)\n",
    "\n",
    "\tworstFit(blockSize, m, processSize, n)"
   ]
  }
 ],
 "metadata": {
  "kernelspec": {
   "display_name": "Python 3 (ipykernel)",
   "language": "python",
   "name": "python3"
  },
  "language_info": {
   "codemirror_mode": {
    "name": "ipython",
    "version": 3
   },
   "file_extension": ".py",
   "mimetype": "text/x-python",
   "name": "python",
   "nbconvert_exporter": "python",
   "pygments_lexer": "ipython3",
   "version": "3.9.13"
  }
 },
 "nbformat": 4,
 "nbformat_minor": 5
}
