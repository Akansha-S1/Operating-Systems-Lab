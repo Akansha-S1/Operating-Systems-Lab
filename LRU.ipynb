{
 "cells": [
  {
   "cell_type": "code",
   "execution_count": null,
   "id": "80fd3b7e",
   "metadata": {},
   "outputs": [],
   "source": [
    "#NAME: AKANSHA SHETTY  USN:22BTRAD002   COURSE: AI/DE   SECTION:A\n",
    "#31_05_23"
   ]
  },
  {
   "cell_type": "code",
   "execution_count": null,
   "id": "e52794ba",
   "metadata": {},
   "outputs": [],
   "source": [
    "#Program Name: LRU Page Replacement Algorithm \n",
    "#LEAST RECENTLY USED"
   ]
  },
  {
   "cell_type": "code",
   "execution_count": null,
   "id": "62f3631b",
   "metadata": {},
   "outputs": [],
   "source": []
  }
 ],
 "metadata": {
  "kernelspec": {
   "display_name": "Python 3 (ipykernel)",
   "language": "python",
   "name": "python3"
  },
  "language_info": {
   "codemirror_mode": {
    "name": "ipython",
    "version": 3
   },
   "file_extension": ".py",
   "mimetype": "text/x-python",
   "name": "python",
   "nbconvert_exporter": "python",
   "pygments_lexer": "ipython3",
   "version": "3.9.13"
  }
 },
 "nbformat": 4,
 "nbformat_minor": 5
}
