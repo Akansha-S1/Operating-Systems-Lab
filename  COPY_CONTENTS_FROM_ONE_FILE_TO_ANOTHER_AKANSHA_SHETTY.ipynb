{
 "cells": [
  {
   "cell_type": "code",
   "execution_count": null,
   "id": "11bc0c56",
   "metadata": {},
   "outputs": [],
   "source": [
    "#NAME: AKANSHA SHETTY  USN:22BTRAD002   COURSE: AI/DE   SECTION:A\n",
    "#31_05_23"
   ]
  },
  {
   "cell_type": "code",
   "execution_count": null,
   "id": "c4b33c49",
   "metadata": {},
   "outputs": [],
   "source": [
    "#Write program to copy contents of one file to another file.\n"
   ]
  },
  {
   "cell_type": "code",
   "execution_count": 6,
   "id": "11361d13",
   "metadata": {},
   "outputs": [
    {
     "name": "stdout",
     "output_type": "stream",
     "text": [
      "Number of words in text file : 176\n",
      "This is the first line\n",
      "This is the second line\n",
      "This is the third line\n"
     ]
    }
   ],
   "source": [
    " # open both files\n",
    "with open('first.txt','r') as firstfile, open('second.txt','a') as secondfile:\n",
    "\t\n",
    "\t# read content from first file\n",
    "\tfor line in firstfile:\n",
    "\t\t\t\n",
    "\t\t\t# append content to second file\n",
    "\t\t\tsecondfile.write(line)\n",
    "\n",
    "\n",
    "file = open(\"C:\\data.txt\", \"rt\")\n",
    "data = file.read()\n",
    "words = data.split()\n",
    "\n",
    "print('Number of words in text file :', len(words))  \n",
    "#Open the file for writing\n",
    "with open('file.txt', 'w') as f:\n",
    "\t# Define the data to be written\n",
    "    data = ['This is the first line', 'This is the second line', 'This is the third line']\n",
    "\t# Use a for loop to write each line of data to the file\n",
    "    for line in data:\n",
    "        f.write(line + '\\n')\n",
    "\t\t# Optionally, print the data as it is written to the file\n",
    "        print(line)\n",
    "# The file is automatically closed when the 'with' block ends"
   ]
  },
  {
   "cell_type": "code",
   "execution_count": null,
   "id": "f48805ec",
   "metadata": {},
   "outputs": [],
   "source": []
  }
 ],
 "metadata": {
  "kernelspec": {
   "display_name": "Python 3 (ipykernel)",
   "language": "python",
   "name": "python3"
  },
  "language_info": {
   "codemirror_mode": {
    "name": "ipython",
    "version": 3
   },
   "file_extension": ".py",
   "mimetype": "text/x-python",
   "name": "python",
   "nbconvert_exporter": "python",
   "pygments_lexer": "ipython3",
   "version": "3.9.13"
  }
 },
 "nbformat": 4,
 "nbformat_minor": 5
}
