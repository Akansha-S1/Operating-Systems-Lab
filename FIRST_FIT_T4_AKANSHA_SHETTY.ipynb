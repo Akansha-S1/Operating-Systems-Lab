{
 "cells": [
  {
   "cell_type": "code",
   "execution_count": null,
   "id": "6e2859e5",
   "metadata": {},
   "outputs": [],
   "source": [
    "#NAME: AKANSHA SHETTY  USN; 22BTRADD002  COURSE: AI/DE   SECTION: A"
   ]
  },
  {
   "cell_type": "code",
   "execution_count": 1,
   "id": "4ae12ee7",
   "metadata": {},
   "outputs": [
    {
     "name": "stdout",
     "output_type": "stream",
     "text": [
      "Process No. Process Size Block No.\n",
      "1\t\t\t20\t\t\t 1\n",
      "2\t\t\t60\t\t\t 4\n",
      "3\t\t\t70\t\t\t Not Allocated\n",
      "4\t\t\t40\t\t\t 2\n"
     ]
    }
   ],
   "source": [
    "def FirstFit(block_Size, blocks, process_Size, proccesses):\n",
    "    # code to store the block id of the block that needs to be allocated to a process\n",
    "    allocate = [-1] * proccesses\n",
    "    occupied = [False] * blocks\n",
    "\n",
    "    # Any process is assigned with the memory at the initial stage\n",
    "\n",
    "    # find a suitable block for each process\n",
    "    # the blocks are allocated as per their size\n",
    "\n",
    "    for i in range(proccesses):\n",
    "        for j in range(blocks):\n",
    "            if not occupied[j] and (block_Size[j] >= process_Size[i]):\n",
    "                # assign the block j to p[i] process\n",
    "                allocate[i] = j\n",
    "                occupied[j] = True\n",
    "                break\n",
    "\n",
    "    print(\"Process No. Process Size Block No.\")\n",
    "\n",
    "    for i in range(proccesses):\n",
    "        print(str(i + 1) + \"\\t\\t\\t\" + str(process_Size[i]) + \"\\t\\t\\t\", end=\" \")\n",
    "\n",
    "        if allocate[i] != -1:\n",
    "            print(allocate[i] + 1)\n",
    "        else:\n",
    "            print(\"Not Allocated\")\n",
    "\n",
    "\n",
    "# Driver code\n",
    "\n",
    "block_Size = [100, 50, 30, 120, 35]\n",
    "process_Size = [20, 60, 70, 40]\n",
    "m = len(block_Size)\n",
    "n = len(process_Size)\n",
    "\n",
    "FirstFit(block_Size, m, process_Size, n)\n"
   ]
  }
 ],
 "metadata": {
  "kernelspec": {
   "display_name": "Python 3 (ipykernel)",
   "language": "python",
   "name": "python3"
  },
  "language_info": {
   "codemirror_mode": {
    "name": "ipython",
    "version": 3
   },
   "file_extension": ".py",
   "mimetype": "text/x-python",
   "name": "python",
   "nbconvert_exporter": "python",
   "pygments_lexer": "ipython3",
   "version": "3.9.13"
  }
 },
 "nbformat": 4,
 "nbformat_minor": 5
}
