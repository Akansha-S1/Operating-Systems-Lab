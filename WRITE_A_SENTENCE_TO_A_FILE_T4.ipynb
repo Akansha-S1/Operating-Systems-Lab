{
 "cells": [
  {
   "cell_type": "code",
   "execution_count": null,
   "id": "875adbdc",
   "metadata": {},
   "outputs": [],
   "source": [
    "#name:AKANSHA SHETTY   USN: 22BTRAD002   SEFCTION:A   COURSE:AI/DE   DATE:30_05_23"
   ]
  },
  {
   "cell_type": "code",
   "execution_count": 7,
   "id": "1cbfbed0",
   "metadata": {},
   "outputs": [],
   "source": [
    "#11 WRITE A SENTENCE TO A FILE\n",
    "# Open the file for writing\n",
    "\n",
    "#With is a command\n",
    "#open is a functioin with two parameters\n",
    "#line 3: f.write(line + '\\n') is a list\n",
    "#LINE in: f.write(line + '\\n') is a variable inn the foor loop, it can also be i j k etc:-\n",
    "#ETL- EXTRCT TRANSFORM LOAD\n",
    "\n",
    "with open('file_AIDE_30_05_2023.txt', 'w') as f:\n",
    "\t# Define the data to be written\n",
    "\tdata = ['This is the first line', 'This is the second line', 'This is the third line']\n",
    "\t# Use a for loop to write each line of data to the file\n",
    "\tfor line in data:\n",
    "\t\tf.write(line + '\\n')\n",
    "\t\t# Optionally, print the data as it is written to the file\n",
    "\t\t#print(line)\n",
    "# The file is automatically closed when the 'with' block ends\n",
    "# FILE WILL BE CREATED IN THE DIRECTORY WHERE THIS PARTICULAR JUPYTER FILE IS"
   ]
  }
 ],
 "metadata": {
  "kernelspec": {
   "display_name": "Python 3 (ipykernel)",
   "language": "python",
   "name": "python3"
  },
  "language_info": {
   "codemirror_mode": {
    "name": "ipython",
    "version": 3
   },
   "file_extension": ".py",
   "mimetype": "text/x-python",
   "name": "python",
   "nbconvert_exporter": "python",
   "pygments_lexer": "ipython3",
   "version": "3.9.13"
  }
 },
 "nbformat": 4,
 "nbformat_minor": 5
}
